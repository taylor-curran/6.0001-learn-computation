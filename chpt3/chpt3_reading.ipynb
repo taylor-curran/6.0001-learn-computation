{
 "cells": [
  {
   "cell_type": "markdown",
   "metadata": {},
   "source": [
    "# Some Simple Numerical Programs"
   ]
  },
  {
   "cell_type": "code",
   "execution_count": 4,
   "metadata": {},
   "outputs": [
    {
     "name": "stdin",
     "output_type": "stream",
     "text": [
      "Enter an integer:  0\n"
     ]
    },
    {
     "name": "stdout",
     "output_type": "stream",
     "text": [
      "Cube root of 0 is 0\n"
     ]
    }
   ],
   "source": [
    "# Find the Cube Root of a Perfect Cube\n",
    "# Return message if there is nothing.\n",
    "x = int(input('Enter an integer: '))\n",
    "ans = 0 \n",
    "# The while loop achieves iteration.\n",
    "while ans**3 < abs(x):\n",
    "  ans = ans + 1 \n",
    "\n",
    "# Ok now Ans is == Cube Root of x\n",
    "# Orrrr it's greater than the cube root.\n",
    "if ans**3 != abs(x):\n",
    "  print(x, \"is not a perfect cube\")\n",
    "else:\n",
    "  if x < 0:\n",
    "    ans = -ans\n",
    "  print('Cube root of', x, 'is', ans)\n",
    "\n",
    "print(value)"
   ]
  },
  {
   "cell_type": "markdown",
   "metadata": {},
   "source": [
    "When writing loops, you need to think about an appropriate **decrementing function**.\n",
    "\n",
    "#### Properties of Decrementing Functions:\n",
    "\n",
    "- It maps a set of program variables into an integer.\n",
    "- When the loop is entered, i's value is nonnegative.\n",
    "- When i's value is < 0, the loop terminates.\n",
    "- Its value is decreased ever time throught the loop."
   ]
  },
  {
   "cell_type": "code",
   "execution_count": null,
   "metadata": {},
   "outputs": [],
   "source": []
  }
 ],
 "metadata": {
  "kernelspec": {
   "display_name": "Python 3",
   "language": "python",
   "name": "python3"
  },
  "language_info": {
   "codemirror_mode": {
    "name": "ipython",
    "version": 3
   },
   "file_extension": ".py",
   "mimetype": "text/x-python",
   "name": "python",
   "nbconvert_exporter": "python",
   "pygments_lexer": "ipython3",
   "version": "3.8.1"
  }
 },
 "nbformat": 4,
 "nbformat_minor": 4
}

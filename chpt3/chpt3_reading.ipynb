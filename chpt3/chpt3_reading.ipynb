{
 "cells": [
  {
   "cell_type": "markdown",
   "metadata": {},
   "source": [
    "# Some Simple Numerical Programs"
   ]
  },
  {
   "cell_type": "code",
   "execution_count": 10,
   "metadata": {},
   "outputs": [
    {
     "name": "stdin",
     "output_type": "stream",
     "text": [
      "Enter an integer:  8\n"
     ]
    },
    {
     "name": "stdout",
     "output_type": "stream",
     "text": [
      "Value of the decrementing function abs(x) - ans**3 is 8\n",
      "Value of the decrementing function abs(x) - ans**3 is 7\n",
      "Cube root of 8 is 2\n",
      "Final value of the decrementing function abs(x) - ans**3 is 0\n"
     ]
    }
   ],
   "source": [
    "# Find the Cube Root of a Perfect Cube\n",
    "# Return message if there is nothing.\n",
    "x = int(input('Enter an integer: '))\n",
    "ans = 0 # aka i\n",
    "# The while loop achieves iteration.\n",
    "while ans**3 < abs(x):\n",
    "    print('Value of the decrementing function abs(x) - ans**3 is', abs(x) - ans**3)\n",
    "    ans = ans + 1\n",
    "\n",
    "# Ok now Ans is == Cube Root of x\n",
    "# Orrrr it's greater than the cube root.\n",
    "# ans**3 - abs(input) --> if it's 0, we have a cube root\n",
    "# if it's Not 0 we don't have a cube root\n",
    "if ans**3 != abs(x):\n",
    "    print(x, \"is not a perfect cube\")\n",
    "else:\n",
    "    if x < 0:\n",
    "        ans = -ans\n",
    "    print('Cube root of', x, 'is', ans)\n",
    "\n",
    "print('Final value of the decrementing function abs(x) - ans**3 is', abs(x) - ans**3)\n",
    "\n",
    "# Apparantly the Decrementing fnction for the while loop is:\n",
    "# abs(x) - ans**3\n",
    "\n",
    "# abs(input) - (i**3)\n",
    "# Since i starts @ 0, the first iteration of the decrementing function is always = abs(input)\n",
    "# and it decreases from there as i increases."
   ]
  },
  {
   "cell_type": "markdown",
   "metadata": {},
   "source": [
    "When writing loops, you need to think about an appropriate **decrementing function**.\n",
    "\n",
    "#### Properties of Decrementing Functions:\n",
    "\n",
    "- It maps a set of program variables into an integer.\n",
    "- When the loop is entered, i's value is nonnegative.\n",
    "- When i's value is < 0, the loop terminates.\n",
    "- Its value is decreased over time throught the loop.\n",
    "\n",
    "**exhaustive enumeration** = a variant of guess and check in which all possibilities are enumerated until the right answer is achieved or the space of possibilities gets exhausted"
   ]
  },
  {
   "cell_type": "code",
   "execution_count": 11,
   "metadata": {},
   "outputs": [
    {
     "name": "stdin",
     "output_type": "stream",
     "text": [
      "Please Pick an Integer  9\n"
     ]
    }
   ],
   "source": [
    "# Start with an integer -> x\n",
    "# Return root int and pwr int such that 1 < pwr < 6 \n",
    "# and root**pwr is = x\n",
    "# or print no pair of integers\n",
    "\n",
    "x = int(input('Please Pick an Integer '))\n"
   ]
  },
  {
   "cell_type": "code",
   "execution_count": 15,
   "metadata": {},
   "outputs": [
    {
     "name": "stdout",
     "output_type": "stream",
     "text": [
      "No combo found.\n"
     ]
    }
   ],
   "source": [
    "x = 9\n",
    "pwr = 2\n",
    "root = 1\n",
    "while pwr > 1 and pwr < 6:\n",
    "    if root**pwr == x:\n",
    "        print(f\"{root}^{pwr} = {x}\")\n",
    "    else:\n",
    "        root += 1\n",
    "print(\"No combo found.\")\n",
    "    "
   ]
  },
  {
   "cell_type": "code",
   "execution_count": null,
   "metadata": {},
   "outputs": [],
   "source": [
    "# https://www.youtube.com/watch?v=i9zercRfE60&list=PLRJdqdXieSHN0U9AdnmwD-9QcR9hmw04d&index=3\n"
   ]
  }
 ],
 "metadata": {
  "kernelspec": {
   "display_name": "Python 3",
   "language": "python",
   "name": "python3"
  },
  "language_info": {
   "codemirror_mode": {
    "name": "ipython",
    "version": 3
   },
   "file_extension": ".py",
   "mimetype": "text/x-python",
   "name": "python",
   "nbconvert_exporter": "python",
   "pygments_lexer": "ipython3",
   "version": "3.8.1"
  }
 },
 "nbformat": 4,
 "nbformat_minor": 4
}
